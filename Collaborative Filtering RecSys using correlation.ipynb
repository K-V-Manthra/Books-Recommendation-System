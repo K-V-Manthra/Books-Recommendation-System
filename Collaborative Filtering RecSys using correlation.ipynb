{
 "cells": [
  {
   "cell_type": "markdown",
   "metadata": {},
   "source": [
    "## Collaborative Filtering Recommendation System"
   ]
  },
  {
   "cell_type": "markdown",
   "metadata": {},
   "source": [
    "### Personalized Books Recommendation System using Correlation Measure"
   ]
  },
  {
   "cell_type": "markdown",
   "metadata": {},
   "source": [
    "Load required packages"
   ]
  },
  {
   "cell_type": "code",
   "execution_count": 1,
   "metadata": {},
   "outputs": [],
   "source": [
    "import pandas as pd\n",
    "import numpy as np\n",
    "from IPython.display import display,Markdown"
   ]
  },
  {
   "cell_type": "markdown",
   "metadata": {},
   "source": [
    "Load required dataset and removing the unnecessary attributes"
   ]
  },
  {
   "cell_type": "code",
   "execution_count": 2,
   "metadata": {},
   "outputs": [
    {
     "name": "stderr",
     "output_type": "stream",
     "text": [
      "b'Skipping line 6452: expected 8 fields, saw 9\\nSkipping line 43667: expected 8 fields, saw 10\\nSkipping line 51751: expected 8 fields, saw 9\\n'\n",
      "b'Skipping line 92038: expected 8 fields, saw 9\\nSkipping line 104319: expected 8 fields, saw 9\\nSkipping line 121768: expected 8 fields, saw 9\\n'\n",
      "b'Skipping line 144058: expected 8 fields, saw 9\\nSkipping line 150789: expected 8 fields, saw 9\\nSkipping line 157128: expected 8 fields, saw 9\\nSkipping line 180189: expected 8 fields, saw 9\\nSkipping line 185738: expected 8 fields, saw 9\\n'\n",
      "b'Skipping line 209388: expected 8 fields, saw 9\\nSkipping line 220626: expected 8 fields, saw 9\\nSkipping line 227933: expected 8 fields, saw 11\\nSkipping line 228957: expected 8 fields, saw 10\\nSkipping line 245933: expected 8 fields, saw 9\\nSkipping line 251296: expected 8 fields, saw 9\\nSkipping line 259941: expected 8 fields, saw 9\\nSkipping line 261529: expected 8 fields, saw 9\\n'\n",
      "C:\\Users\\WavicleData\\Anaconda3\\lib\\site-packages\\IPython\\core\\interactiveshell.py:3058: DtypeWarning: Columns (3) have mixed types. Specify dtype option on import or set low_memory=False.\n",
      "  interactivity=interactivity, compiler=compiler, result=result)\n"
     ]
    },
    {
     "data": {
      "text/html": [
       "<div>\n",
       "<style scoped>\n",
       "    .dataframe tbody tr th:only-of-type {\n",
       "        vertical-align: middle;\n",
       "    }\n",
       "\n",
       "    .dataframe tbody tr th {\n",
       "        vertical-align: top;\n",
       "    }\n",
       "\n",
       "    .dataframe thead th {\n",
       "        text-align: right;\n",
       "    }\n",
       "</style>\n",
       "<table border=\"1\" class=\"dataframe\">\n",
       "  <thead>\n",
       "    <tr style=\"text-align: right;\">\n",
       "      <th></th>\n",
       "      <th>ISBN</th>\n",
       "      <th>Book-Title</th>\n",
       "    </tr>\n",
       "  </thead>\n",
       "  <tbody>\n",
       "    <tr>\n",
       "      <td>0</td>\n",
       "      <td>0195153448</td>\n",
       "      <td>Classical Mythology</td>\n",
       "    </tr>\n",
       "    <tr>\n",
       "      <td>1</td>\n",
       "      <td>0002005018</td>\n",
       "      <td>Clara Callan</td>\n",
       "    </tr>\n",
       "    <tr>\n",
       "      <td>2</td>\n",
       "      <td>0060973129</td>\n",
       "      <td>Decision in Normandy</td>\n",
       "    </tr>\n",
       "    <tr>\n",
       "      <td>3</td>\n",
       "      <td>0374157065</td>\n",
       "      <td>Flu: The Story of the Great Influenza Pandemic...</td>\n",
       "    </tr>\n",
       "    <tr>\n",
       "      <td>4</td>\n",
       "      <td>0393045218</td>\n",
       "      <td>The Mummies of Urumchi</td>\n",
       "    </tr>\n",
       "  </tbody>\n",
       "</table>\n",
       "</div>"
      ],
      "text/plain": [
       "         ISBN                                         Book-Title\n",
       "0  0195153448                                Classical Mythology\n",
       "1  0002005018                                       Clara Callan\n",
       "2  0060973129                               Decision in Normandy\n",
       "3  0374157065  Flu: The Story of the Great Influenza Pandemic...\n",
       "4  0393045218                             The Mummies of Urumchi"
      ]
     },
     "execution_count": 2,
     "metadata": {},
     "output_type": "execute_result"
    }
   ],
   "source": [
    "books = pd.read_csv('F:/RS/BX-Books/BX-Books.csv',sep = ';',error_bad_lines=False,encoding='latin-1')\n",
    "books.drop([\"Book-Author\",\"Year-Of-Publication\",\"Publisher\",\"Image-URL-S\",\"Image-URL-M\",\"Image-URL-L\"],axis=1,inplace=True)\n",
    "books.head()"
   ]
  },
  {
   "cell_type": "code",
   "execution_count": 3,
   "metadata": {},
   "outputs": [
    {
     "data": {
      "text/html": [
       "<div>\n",
       "<style scoped>\n",
       "    .dataframe tbody tr th:only-of-type {\n",
       "        vertical-align: middle;\n",
       "    }\n",
       "\n",
       "    .dataframe tbody tr th {\n",
       "        vertical-align: top;\n",
       "    }\n",
       "\n",
       "    .dataframe thead th {\n",
       "        text-align: right;\n",
       "    }\n",
       "</style>\n",
       "<table border=\"1\" class=\"dataframe\">\n",
       "  <thead>\n",
       "    <tr style=\"text-align: right;\">\n",
       "      <th></th>\n",
       "      <th>User-ID</th>\n",
       "      <th>ISBN</th>\n",
       "      <th>Book-Rating</th>\n",
       "    </tr>\n",
       "  </thead>\n",
       "  <tbody>\n",
       "    <tr>\n",
       "      <td>0</td>\n",
       "      <td>276725</td>\n",
       "      <td>034545104X</td>\n",
       "      <td>0</td>\n",
       "    </tr>\n",
       "    <tr>\n",
       "      <td>1</td>\n",
       "      <td>276726</td>\n",
       "      <td>0155061224</td>\n",
       "      <td>5</td>\n",
       "    </tr>\n",
       "    <tr>\n",
       "      <td>2</td>\n",
       "      <td>276727</td>\n",
       "      <td>0446520802</td>\n",
       "      <td>0</td>\n",
       "    </tr>\n",
       "    <tr>\n",
       "      <td>3</td>\n",
       "      <td>276729</td>\n",
       "      <td>052165615X</td>\n",
       "      <td>3</td>\n",
       "    </tr>\n",
       "    <tr>\n",
       "      <td>4</td>\n",
       "      <td>276729</td>\n",
       "      <td>0521795028</td>\n",
       "      <td>6</td>\n",
       "    </tr>\n",
       "  </tbody>\n",
       "</table>\n",
       "</div>"
      ],
      "text/plain": [
       "   User-ID        ISBN  Book-Rating\n",
       "0   276725  034545104X            0\n",
       "1   276726  0155061224            5\n",
       "2   276727  0446520802            0\n",
       "3   276729  052165615X            3\n",
       "4   276729  0521795028            6"
      ]
     },
     "execution_count": 3,
     "metadata": {},
     "output_type": "execute_result"
    }
   ],
   "source": [
    "rating = pd.read_csv('F:/RS/BX-Books/BX-Book-Ratings.csv',sep = ';',error_bad_lines=False,encoding='latin-1')\n",
    "rating.head()"
   ]
  },
  {
   "cell_type": "markdown",
   "metadata": {},
   "source": [
    "Loading the required csv files and checking for null values"
   ]
  },
  {
   "cell_type": "markdown",
   "metadata": {},
   "source": [
    "#### Data Preparation"
   ]
  },
  {
   "cell_type": "markdown",
   "metadata": {},
   "source": [
    "Merging the two datasets: books & rating"
   ]
  },
  {
   "cell_type": "code",
   "execution_count": 4,
   "metadata": {},
   "outputs": [
    {
     "data": {
      "text/html": [
       "<div>\n",
       "<style scoped>\n",
       "    .dataframe tbody tr th:only-of-type {\n",
       "        vertical-align: middle;\n",
       "    }\n",
       "\n",
       "    .dataframe tbody tr th {\n",
       "        vertical-align: top;\n",
       "    }\n",
       "\n",
       "    .dataframe thead th {\n",
       "        text-align: right;\n",
       "    }\n",
       "</style>\n",
       "<table border=\"1\" class=\"dataframe\">\n",
       "  <thead>\n",
       "    <tr style=\"text-align: right;\">\n",
       "      <th></th>\n",
       "      <th>ISBN</th>\n",
       "      <th>Book-Title</th>\n",
       "      <th>User-ID</th>\n",
       "      <th>Book-Rating</th>\n",
       "    </tr>\n",
       "  </thead>\n",
       "  <tbody>\n",
       "    <tr>\n",
       "      <td>0</td>\n",
       "      <td>0195153448</td>\n",
       "      <td>Classical Mythology</td>\n",
       "      <td>2</td>\n",
       "      <td>0</td>\n",
       "    </tr>\n",
       "    <tr>\n",
       "      <td>1</td>\n",
       "      <td>0002005018</td>\n",
       "      <td>Clara Callan</td>\n",
       "      <td>8</td>\n",
       "      <td>5</td>\n",
       "    </tr>\n",
       "    <tr>\n",
       "      <td>2</td>\n",
       "      <td>0002005018</td>\n",
       "      <td>Clara Callan</td>\n",
       "      <td>11400</td>\n",
       "      <td>0</td>\n",
       "    </tr>\n",
       "    <tr>\n",
       "      <td>3</td>\n",
       "      <td>0002005018</td>\n",
       "      <td>Clara Callan</td>\n",
       "      <td>11676</td>\n",
       "      <td>8</td>\n",
       "    </tr>\n",
       "    <tr>\n",
       "      <td>4</td>\n",
       "      <td>0002005018</td>\n",
       "      <td>Clara Callan</td>\n",
       "      <td>41385</td>\n",
       "      <td>0</td>\n",
       "    </tr>\n",
       "  </tbody>\n",
       "</table>\n",
       "</div>"
      ],
      "text/plain": [
       "         ISBN           Book-Title  User-ID  Book-Rating\n",
       "0  0195153448  Classical Mythology        2            0\n",
       "1  0002005018         Clara Callan        8            5\n",
       "2  0002005018         Clara Callan    11400            0\n",
       "3  0002005018         Clara Callan    11676            8\n",
       "4  0002005018         Clara Callan    41385            0"
      ]
     },
     "execution_count": 4,
     "metadata": {},
     "output_type": "execute_result"
    }
   ],
   "source": [
    "book_rating = pd.merge(books, rating, on= 'ISBN')\n",
    "book_rating.head()"
   ]
  },
  {
   "cell_type": "markdown",
   "metadata": {},
   "source": [
    "Data Filtering"
   ]
  },
  {
   "cell_type": "code",
   "execution_count": 5,
   "metadata": {},
   "outputs": [],
   "source": [
    "book_rating_filtered = book_rating[1:229974] #subsetting the data to avoid getting memory error"
   ]
  },
  {
   "cell_type": "code",
   "execution_count": 6,
   "metadata": {
    "scrolled": true
   },
   "outputs": [
    {
     "data": {
      "text/html": [
       "<div>\n",
       "<style scoped>\n",
       "    .dataframe tbody tr th:only-of-type {\n",
       "        vertical-align: middle;\n",
       "    }\n",
       "\n",
       "    .dataframe tbody tr th {\n",
       "        vertical-align: top;\n",
       "    }\n",
       "\n",
       "    .dataframe thead th {\n",
       "        text-align: right;\n",
       "    }\n",
       "</style>\n",
       "<table border=\"1\" class=\"dataframe\">\n",
       "  <thead>\n",
       "    <tr style=\"text-align: right;\">\n",
       "      <th>Book-Title</th>\n",
       "      <th>'48</th>\n",
       "      <th>01-01-00: A Novel of the Millennium</th>\n",
       "      <th>100 Best-Loved Poems (Dover Thrift Editions)</th>\n",
       "      <th>100 Great Fantasy Short, Short Stories</th>\n",
       "      <th>101 Bright Ideas: Esl Activities for All Ages</th>\n",
       "      <th>101 Dalmatians</th>\n",
       "      <th>101 Dinosaur Jokes</th>\n",
       "      <th>101 Telephone Jokes</th>\n",
       "      <th>11th Hour</th>\n",
       "      <th>13 99 Euros</th>\n",
       "      <th>...</th>\n",
       "      <th>Zone Perfect Meals in Minutes: 150 Fast and Simple Healthy Recipes from the Bestselling Authorof the Zone and Mastering the Zone</th>\n",
       "      <th>Zone Ã?Â©rogÃ?Â¨ne</th>\n",
       "      <th>Zoot Suit and Other Plays</th>\n",
       "      <th>Zope Bible</th>\n",
       "      <th>\\O\\\" Is for Outlaw\"</th>\n",
       "      <th>\\The Twilight of the Idols (Classics S.)\"</th>\n",
       "      <th>de Parte de La Princesa Muerta</th>\n",
       "      <th>iI Paradiso Degli Orchi</th>\n",
       "      <th>metamorfosis, La (ClÃ¡sicos selecciÃ³n series)</th>\n",
       "      <th>stardust</th>\n",
       "    </tr>\n",
       "    <tr>\n",
       "      <th>User-ID</th>\n",
       "      <th></th>\n",
       "      <th></th>\n",
       "      <th></th>\n",
       "      <th></th>\n",
       "      <th></th>\n",
       "      <th></th>\n",
       "      <th></th>\n",
       "      <th></th>\n",
       "      <th></th>\n",
       "      <th></th>\n",
       "      <th></th>\n",
       "      <th></th>\n",
       "      <th></th>\n",
       "      <th></th>\n",
       "      <th></th>\n",
       "      <th></th>\n",
       "      <th></th>\n",
       "      <th></th>\n",
       "      <th></th>\n",
       "      <th></th>\n",
       "      <th></th>\n",
       "    </tr>\n",
       "  </thead>\n",
       "  <tbody>\n",
       "    <tr>\n",
       "      <td>8</td>\n",
       "      <td>0.0</td>\n",
       "      <td>0.0</td>\n",
       "      <td>0.0</td>\n",
       "      <td>0.0</td>\n",
       "      <td>0.0</td>\n",
       "      <td>0.0</td>\n",
       "      <td>0.0</td>\n",
       "      <td>0.0</td>\n",
       "      <td>0.0</td>\n",
       "      <td>0.0</td>\n",
       "      <td>...</td>\n",
       "      <td>0.0</td>\n",
       "      <td>0.0</td>\n",
       "      <td>0.0</td>\n",
       "      <td>0.0</td>\n",
       "      <td>0.0</td>\n",
       "      <td>0.0</td>\n",
       "      <td>0.0</td>\n",
       "      <td>0.0</td>\n",
       "      <td>0.0</td>\n",
       "      <td>0.0</td>\n",
       "    </tr>\n",
       "    <tr>\n",
       "      <td>9</td>\n",
       "      <td>0.0</td>\n",
       "      <td>0.0</td>\n",
       "      <td>0.0</td>\n",
       "      <td>0.0</td>\n",
       "      <td>0.0</td>\n",
       "      <td>0.0</td>\n",
       "      <td>0.0</td>\n",
       "      <td>0.0</td>\n",
       "      <td>0.0</td>\n",
       "      <td>0.0</td>\n",
       "      <td>...</td>\n",
       "      <td>0.0</td>\n",
       "      <td>0.0</td>\n",
       "      <td>0.0</td>\n",
       "      <td>0.0</td>\n",
       "      <td>0.0</td>\n",
       "      <td>0.0</td>\n",
       "      <td>0.0</td>\n",
       "      <td>0.0</td>\n",
       "      <td>0.0</td>\n",
       "      <td>0.0</td>\n",
       "    </tr>\n",
       "    <tr>\n",
       "      <td>10</td>\n",
       "      <td>0.0</td>\n",
       "      <td>0.0</td>\n",
       "      <td>0.0</td>\n",
       "      <td>0.0</td>\n",
       "      <td>0.0</td>\n",
       "      <td>0.0</td>\n",
       "      <td>0.0</td>\n",
       "      <td>0.0</td>\n",
       "      <td>0.0</td>\n",
       "      <td>0.0</td>\n",
       "      <td>...</td>\n",
       "      <td>0.0</td>\n",
       "      <td>0.0</td>\n",
       "      <td>0.0</td>\n",
       "      <td>0.0</td>\n",
       "      <td>0.0</td>\n",
       "      <td>0.0</td>\n",
       "      <td>0.0</td>\n",
       "      <td>0.0</td>\n",
       "      <td>0.0</td>\n",
       "      <td>0.0</td>\n",
       "    </tr>\n",
       "    <tr>\n",
       "      <td>12</td>\n",
       "      <td>0.0</td>\n",
       "      <td>0.0</td>\n",
       "      <td>0.0</td>\n",
       "      <td>0.0</td>\n",
       "      <td>0.0</td>\n",
       "      <td>0.0</td>\n",
       "      <td>0.0</td>\n",
       "      <td>0.0</td>\n",
       "      <td>0.0</td>\n",
       "      <td>0.0</td>\n",
       "      <td>...</td>\n",
       "      <td>0.0</td>\n",
       "      <td>0.0</td>\n",
       "      <td>0.0</td>\n",
       "      <td>0.0</td>\n",
       "      <td>0.0</td>\n",
       "      <td>0.0</td>\n",
       "      <td>0.0</td>\n",
       "      <td>0.0</td>\n",
       "      <td>0.0</td>\n",
       "      <td>0.0</td>\n",
       "    </tr>\n",
       "    <tr>\n",
       "      <td>14</td>\n",
       "      <td>0.0</td>\n",
       "      <td>0.0</td>\n",
       "      <td>0.0</td>\n",
       "      <td>0.0</td>\n",
       "      <td>0.0</td>\n",
       "      <td>0.0</td>\n",
       "      <td>0.0</td>\n",
       "      <td>0.0</td>\n",
       "      <td>0.0</td>\n",
       "      <td>0.0</td>\n",
       "      <td>...</td>\n",
       "      <td>0.0</td>\n",
       "      <td>0.0</td>\n",
       "      <td>0.0</td>\n",
       "      <td>0.0</td>\n",
       "      <td>0.0</td>\n",
       "      <td>0.0</td>\n",
       "      <td>0.0</td>\n",
       "      <td>0.0</td>\n",
       "      <td>0.0</td>\n",
       "      <td>0.0</td>\n",
       "    </tr>\n",
       "  </tbody>\n",
       "</table>\n",
       "<p>5 rows × 7425 columns</p>\n",
       "</div>"
      ],
      "text/plain": [
       "Book-Title  '48  01-01-00: A Novel of the Millennium  \\\n",
       "User-ID                                                \n",
       "8           0.0                                  0.0   \n",
       "9           0.0                                  0.0   \n",
       "10          0.0                                  0.0   \n",
       "12          0.0                                  0.0   \n",
       "14          0.0                                  0.0   \n",
       "\n",
       "Book-Title  100 Best-Loved Poems (Dover Thrift Editions)  \\\n",
       "User-ID                                                    \n",
       "8                                                    0.0   \n",
       "9                                                    0.0   \n",
       "10                                                   0.0   \n",
       "12                                                   0.0   \n",
       "14                                                   0.0   \n",
       "\n",
       "Book-Title  100 Great Fantasy Short, Short Stories  \\\n",
       "User-ID                                              \n",
       "8                                              0.0   \n",
       "9                                              0.0   \n",
       "10                                             0.0   \n",
       "12                                             0.0   \n",
       "14                                             0.0   \n",
       "\n",
       "Book-Title  101 Bright Ideas: Esl Activities for All Ages  101 Dalmatians  \\\n",
       "User-ID                                                                     \n",
       "8                                                     0.0             0.0   \n",
       "9                                                     0.0             0.0   \n",
       "10                                                    0.0             0.0   \n",
       "12                                                    0.0             0.0   \n",
       "14                                                    0.0             0.0   \n",
       "\n",
       "Book-Title  101 Dinosaur Jokes  101 Telephone Jokes  11th Hour  13 99 Euros  \\\n",
       "User-ID                                                                       \n",
       "8                          0.0                  0.0        0.0          0.0   \n",
       "9                          0.0                  0.0        0.0          0.0   \n",
       "10                         0.0                  0.0        0.0          0.0   \n",
       "12                         0.0                  0.0        0.0          0.0   \n",
       "14                         0.0                  0.0        0.0          0.0   \n",
       "\n",
       "Book-Title  ...  \\\n",
       "User-ID     ...   \n",
       "8           ...   \n",
       "9           ...   \n",
       "10          ...   \n",
       "12          ...   \n",
       "14          ...   \n",
       "\n",
       "Book-Title  Zone Perfect Meals in Minutes: 150 Fast and Simple Healthy Recipes from the Bestselling Authorof the Zone and Mastering the Zone  \\\n",
       "User-ID                                                                                                                                        \n",
       "8                                                         0.0                                                                                  \n",
       "9                                                         0.0                                                                                  \n",
       "10                                                        0.0                                                                                  \n",
       "12                                                        0.0                                                                                  \n",
       "14                                                        0.0                                                                                  \n",
       "\n",
       "Book-Title  Zone Ã?Â©rogÃ?Â¨ne  Zoot Suit and Other Plays  Zope Bible  \\\n",
       "User-ID                                                                 \n",
       "8                          0.0                        0.0         0.0   \n",
       "9                          0.0                        0.0         0.0   \n",
       "10                         0.0                        0.0         0.0   \n",
       "12                         0.0                        0.0         0.0   \n",
       "14                         0.0                        0.0         0.0   \n",
       "\n",
       "Book-Title  \\O\\\" Is for Outlaw\"  \\The Twilight of the Idols (Classics S.)\"  \\\n",
       "User-ID                                                                      \n",
       "8                           0.0                                        0.0   \n",
       "9                           0.0                                        0.0   \n",
       "10                          0.0                                        0.0   \n",
       "12                          0.0                                        0.0   \n",
       "14                          0.0                                        0.0   \n",
       "\n",
       "Book-Title  de Parte de La Princesa Muerta  iI Paradiso Degli Orchi  \\\n",
       "User-ID                                                               \n",
       "8                                      0.0                      0.0   \n",
       "9                                      0.0                      0.0   \n",
       "10                                     0.0                      0.0   \n",
       "12                                     0.0                      0.0   \n",
       "14                                     0.0                      0.0   \n",
       "\n",
       "Book-Title  metamorfosis, La (ClÃ¡sicos selecciÃ³n series)  stardust  \n",
       "User-ID                                                               \n",
       "8                                                      0.0       0.0  \n",
       "9                                                      0.0       0.0  \n",
       "10                                                     0.0       0.0  \n",
       "12                                                     0.0       0.0  \n",
       "14                                                     0.0       0.0  \n",
       "\n",
       "[5 rows x 7425 columns]"
      ]
     },
     "execution_count": 6,
     "metadata": {},
     "output_type": "execute_result"
    }
   ],
   "source": [
    "p_table = pd.pivot_table(book_rating_filtered, values ='Book-Rating', index =['User-ID'], \n",
    "                         columns =['Book-Title'], aggfunc = np.sum) \\\n",
    "            .fillna(0)\n",
    "p_table.head()"
   ]
  },
  {
   "cell_type": "markdown",
   "metadata": {},
   "source": [
    "### Dynamic Function for providing recommendatios based on user-item similarity (correlation measure)"
   ]
  },
  {
   "cell_type": "code",
   "execution_count": 7,
   "metadata": {},
   "outputs": [],
   "source": [
    "def corr_rs(df,table,a1,a2,item):\n",
    "    selected_item = table[item]\n",
    "    books_like_item = table.corrwith(selected_item)\n",
    "    corr_books_like_item = pd.DataFrame(books_like_item,columns=['Correlation'])\n",
    "    corr_books_like_item.dropna(inplace = True)\n",
    "    corr_books_like_item.head()\n",
    "    corr_books_like_item.sort_values(\"Correlation\",ascending=False).head()\n",
    "    ratings_mean_count = pd.DataFrame(df.groupby(a1)[a2].mean())\n",
    "    ratings_mean_count[\"ratings_count\"] = df.groupby(a1)[a2].count()\n",
    "    corr_books_like_item = corr_books_like_item.join(ratings_mean_count[\"ratings_count\"])\n",
    "    recommended_books_similar_to_item = corr_books_like_item[corr_books_like_item[\"ratings_count\"]>600].sort_values(\"Correlation\",ascending = False).head(10)\n",
    "    if recommended_books_similar_to_item.empty == True:\n",
    "        display(Markdown(\"**No Books Recommended for {}**\".format(item)))\n",
    "    else:\n",
    "        display(Markdown('**Books Recommended for {}**'.format(item)))\n",
    "        print(recommended_books_similar_to_item)"
   ]
  },
  {
   "cell_type": "markdown",
   "metadata": {},
   "source": [
    "##### Recommendations"
   ]
  },
  {
   "cell_type": "code",
   "execution_count": 8,
   "metadata": {},
   "outputs": [
    {
     "data": {
      "text/markdown": [
       "**Books Recommended for stardust**"
      ],
      "text/plain": [
       "<IPython.core.display.Markdown object>"
      ]
     },
     "metadata": {},
     "output_type": "display_data"
    },
    {
     "name": "stdout",
     "output_type": "stream",
     "text": [
      "                            Correlation  ratings_count\n",
      "Book-Title                                            \n",
      "The Da Vinci Code              0.053898            898\n",
      "Life of Pi                     0.035829            664\n",
      "Bridget Jones's Diary          0.030935            815\n",
      "The Testament                  0.030238            617\n",
      "The Summons                    0.021349            655\n",
      "The Nanny Diaries: A Novel     0.016714            828\n",
      "Angels &amp; Demons            0.015463            670\n",
      "The Secret Life of Bees        0.013191            774\n",
      "Snow Falling on Cedars         0.012686            662\n",
      "A Painted House                0.010276            838\n"
     ]
    }
   ],
   "source": [
    "corr_rs(book_rating,p_table,\"Book-Title\",\"Book-Rating\",\"stardust\")"
   ]
  },
  {
   "cell_type": "code",
   "execution_count": 9,
   "metadata": {},
   "outputs": [
    {
     "data": {
      "text/markdown": [
       "**No Books Recommended for 11th Hour**"
      ],
      "text/plain": [
       "<IPython.core.display.Markdown object>"
      ]
     },
     "metadata": {},
     "output_type": "display_data"
    }
   ],
   "source": [
    "# display(Markdown('**Recommendations for {}'.format(item)))\n",
    "corr_rs(book_rating,p_table,\"Book-Title\",\"Book-Rating\",\"11th Hour\")"
   ]
  }
 ],
 "metadata": {
  "kernelspec": {
   "display_name": "Python 3",
   "language": "python",
   "name": "python3"
  },
  "language_info": {
   "codemirror_mode": {
    "name": "ipython",
    "version": 3
   },
   "file_extension": ".py",
   "mimetype": "text/x-python",
   "name": "python",
   "nbconvert_exporter": "python",
   "pygments_lexer": "ipython3",
   "version": "3.7.4"
  }
 },
 "nbformat": 4,
 "nbformat_minor": 2
}
